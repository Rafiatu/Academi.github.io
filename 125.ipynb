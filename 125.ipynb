{
  "nbformat": 4,
  "nbformat_minor": 0,
  "metadata": {
    "kernelspec": {
      "display_name": "Python 3",
      "language": "python",
      "name": "python3"
    },
    "language_info": {
      "codemirror_mode": {
        "name": "ipython",
        "version": 3
      },
      "file_extension": ".py",
      "mimetype": "text/x-python",
      "name": "python",
      "nbconvert_exporter": "python",
      "pygments_lexer": "ipython3",
      "version": "3.7.6"
    },
    "colab": {
      "name": "125.ipynb",
      "provenance": []
    }
  },
  "cells": [
    {
      "cell_type": "markdown",
      "metadata": {
        "id": "S5N8HYTYt2dp"
      },
      "source": [
        "# Module 1: Data Science Fundamentals"
      ]
    },
    {
      "cell_type": "markdown",
      "metadata": {
        "id": "831bxnpqt2ef"
      },
      "source": [
        "## Sprint 2: Statistical Tests and Experiments"
      ]
    },
    {
      "cell_type": "markdown",
      "metadata": {
        "id": "m1uodcibt2eg"
      },
      "source": [
        "## Let's analyse Udacity A/B test!"
      ]
    },
    {
      "cell_type": "markdown",
      "metadata": {
        "id": "Jt93yZF6t2eg"
      },
      "source": [
        "<div><img style=\"height: 350px;\" src=\"https://upload.wikimedia.org/wikipedia/commons/3/3b/Udacity_logo.png\" /></div>"
      ]
    },
    {
      "cell_type": "markdown",
      "metadata": {
        "id": "VJw3ljUbt2eu"
      },
      "source": [
        "## Background"
      ]
    },
    {
      "cell_type": "markdown",
      "metadata": {
        "id": "DXKtOJVtt2eu"
      },
      "source": [
        "For the last day of this sprint, we are analyzing once run, online Udacity A/B test results! The dataset is part of the Udacity Google's A/B testing course, which we have watched a couple of lessons from in Subproject 2 of this sprint."
      ]
    },
    {
      "cell_type": "markdown",
      "metadata": {
        "id": "2Z_GP1K6t2ev"
      },
      "source": [
        "Data is available at https://docs.google.com/spreadsheets/d/1Mu5u9GrybDdska-ljPXyBjTpdZIUev_6i7t4LRDfXM8/edit#gid=0"
      ]
    },
    {
      "cell_type": "markdown",
      "metadata": {
        "id": "Azg2a5yqt2ev"
      },
      "source": [
        "---------"
      ]
    },
    {
      "cell_type": "markdown",
      "metadata": {
        "id": "0fKxg84Xt2ev"
      },
      "source": [
        "## How to start?"
      ]
    },
    {
      "cell_type": "markdown",
      "metadata": {
        "id": "No6IfzDOt2ev"
      },
      "source": [
        "The data consists of two sheets, each for different group of the test. Download the sheets as CSVs and union them to form 1 dataset."
      ]
    },
    {
      "cell_type": "markdown",
      "metadata": {
        "id": "QYV6dlRht2ew"
      },
      "source": [
        "## Concepts to explore"
      ]
    },
    {
      "cell_type": "markdown",
      "metadata": {
        "id": "ln0qmcIxt2ew"
      },
      "source": [
        "You will mostly focus on statistical hypothesis testing in this project on real-life data."
      ]
    },
    {
      "cell_type": "markdown",
      "metadata": {
        "id": "HfGCiPOSt2ew"
      },
      "source": [
        "## Requirements"
      ]
    },
    {
      "cell_type": "markdown",
      "metadata": {
        "id": "yWU5rHbjt2ew"
      },
      "source": [
        "* Visualize 95% confidence interval between control and experiment groups on [click-through rate](https://en.wikipedia.org/wiki/Click-through_rate) metric. Explain what the confidence interval means, what's the relationship with the population of a group.\n",
        "* Verify that the difference in each of the metrics between control and experiment groups is statistically significant using z-test, 95% confidence level.\n",
        "* Verify that the difference in each of the metrics between control and experiment groups is statistically significant using t-test, 95% confidence level.\n",
        "* Compare both test method results. Explain why they differ / do not differ that much and why.\n",
        "* Choose 1 method (either z or t) and explore statistical significance of any metric under different confidence levels - 60%, 90%, 95%, 99%. If conclusions about significance differ under different confidence levels, explain why.\n",
        "* Calculate p-values."
      ]
    },
    {
      "cell_type": "code",
      "metadata": {
        "id": "KQ15D9PguJhq",
        "outputId": "485bd6b8-a3e4-4215-9a66-1b86a9e67305",
        "colab": {
          "base_uri": "https://localhost:8080/"
        }
      },
      "source": [
        "import pandas as pd\n",
        "import numpy as np\n",
        "import seaborn as sns\n",
        "import matplotlib.pyplot as plt\n",
        "from math import sqrt\n",
        "from scipy.stats import ttest_ind\n",
        "import scipy.stats\n",
        "import statsmodels.stats.weightstats as st\n",
        "from statsmodels.stats.proportion import proportion_confint"
      ],
      "execution_count": 1,
      "outputs": [
        {
          "output_type": "stream",
          "text": [
            "/usr/local/lib/python3.7/dist-packages/statsmodels/tools/_testing.py:19: FutureWarning: pandas.util.testing is deprecated. Use the functions in the public API at pandas.testing instead.\n",
            "  import pandas.util.testing as tm\n"
          ],
          "name": "stderr"
        }
      ]
    },
    {
      "cell_type": "code",
      "metadata": {
        "id": "T9lMfvx-lONM"
      },
      "source": [
        "control = pd.read_csv('https://raw.githubusercontent.com/Rafiatu/training/master/Final%20Project%20Results%20-%20Control.csv')\n",
        "experiment = pd.read_csv('https://raw.githubusercontent.com/Rafiatu/training/master/Final%20Project%20Results%20-%20Experiment.csv')\n",
        "control['group'] = ['control' for i in control['Pageviews']]\n",
        "experiment['group'] = ['experiment' for i in experiment['Pageviews']]\n",
        "union = pd.concat([control, experiment])"
      ],
      "execution_count": null,
      "outputs": []
    },
    {
      "cell_type": "markdown",
      "metadata": {
        "id": "o7OMG__F_QBC"
      },
      "source": [
        "## Hypotheses"
      ]
    },
    {
      "cell_type": "markdown",
      "metadata": {
        "id": "u3CF3WSl_YLw"
      },
      "source": [
        "Null Hypothesis: No significant difference between the experiment and control groups.\n",
        "\n"
      ]
    },
    {
      "cell_type": "markdown",
      "metadata": {
        "id": "_pyBOIu1BF_v"
      },
      "source": [
        "Alternate Hypothesis: The experiment group has a higher click through rate than the control group."
      ]
    },
    {
      "cell_type": "markdown",
      "metadata": {
        "id": "cbicgRwFHZc-"
      },
      "source": [
        "## Sanity Checks"
      ]
    },
    {
      "cell_type": "markdown",
      "metadata": {
        "id": "CPN4dqCXdgRJ"
      },
      "source": [
        "Plotting the distribution of target and control group"
      ]
    },
    {
      "cell_type": "code",
      "metadata": {
        "id": "F9GB4_aZnK70"
      },
      "source": [
        "mean_cont = control['CTR%'].mean()\n",
        "mean_exper = experiment['CTR%'].mean()\n",
        "cont_size = control['CTR%'].count()\n",
        "exper_size = experiment['CTR%'].count()\n",
        "cont_std = control['CTR%'].std()\n",
        "exper_std = experiment['CTR%'].std()\n",
        "mean_diff = mean_exper - mean_cont\n",
        "pooled_std = sqrt((((cont_size-1)*(cont_std**2)) + ((exper_size-1)*(exper_std**2))) / (cont_size + exper_size-2) )\n",
        "z_critic = scipy.stats.norm.ppf(1-0.05/2)  # at 95% confidence level"
      ],
      "execution_count": 12,
      "outputs": []
    },
    {
      "cell_type": "code",
      "metadata": {
        "id": "jso8Etg-tVE7"
      },
      "source": [
        "cob = ((pooled_std / sqrt(cont_size + exper_size)) * z_critic)\n",
        "upper_CI, lower_CI = (mean_diff - cob, mean_diff + cob) "
      ],
      "execution_count": 13,
      "outputs": []
    },
    {
      "cell_type": "code",
      "metadata": {
        "id": "GwQEmeilwovB",
        "outputId": "345233b9-2417-431a-f47b-a7f782cf9d17",
        "colab": {
          "base_uri": "https://localhost:8080/"
        }
      },
      "source": [
        "print(upper_CI, lower_CI)"
      ],
      "execution_count": 14,
      "outputs": [
        {
          "output_type": "stream",
          "text": [
            "-0.0008610295490244749 0.001191643940240125\n"
          ],
          "name": "stdout"
        }
      ]
    },
    {
      "cell_type": "markdown",
      "metadata": {
        "id": "R0JIF5NyBK9m"
      },
      "source": [
        "## 95% Confidence Interval between both groups"
      ]
    },
    {
      "cell_type": "code",
      "metadata": {
        "id": "UshtvI_c4nxU",
        "outputId": "6b169b82-bf17-47bc-8dc1-8e86cd757756",
        "colab": {
          "base_uri": "https://localhost:8080/",
          "height": 404
        }
      },
      "source": [
        "plt.figure(figsize=(8,6))\n",
        "\n",
        "plots = sns.barplot(x=union['group'], y=union['Pageviews'], ci=False)\n",
        "for bar in plots.patches:\n",
        "  plots.annotate(format(bar.get_height(), '.2f'), \n",
        "                   (bar.get_x() + bar.get_width() / 2, \n",
        "                    bar.get_height()), ha='center', va='center',\n",
        "                   size=15, xytext=(0, 8),\n",
        "                   textcoords='offset points')\n",
        "\n",
        "plt.title('Pageviews per group')\n",
        "plt.xlabel('Group')\n",
        "plt.ylabel('Pageviews');"
      ],
      "execution_count": 34,
      "outputs": [
        {
          "output_type": "display_data",
          "data": {
            "image/png": "[encoded data removed]",
            "text/plain": [
              "<Figure size 576x432 with 1 Axes>"
            ]
          },
          "metadata": {
            "tags": [],
            "needs_background": "light"
          }
        }
      ]
    },
    {
      "cell_type": "code",
      "metadata": {
        "colab": {
          "base_uri": "https://localhost:8080/"
        },
        "id": "wJu9Lj6CAzQk",
        "outputId": "fc21a1f0-20a5-49e3-b805-f299778da4a0"
      },
      "source": [
        "# The difference between the total numbers of each pageview\n",
        "control['Pageviews'].sum() - experiment['Pageviews'].sum()"
      ],
      "execution_count": 6,
      "outputs": [
        {
          "output_type": "execute_result",
          "data": {
            "text/plain": [
              "883"
            ]
          },
          "metadata": {
            "tags": []
          },
          "execution_count": 6
        }
      ]
    },
    {
      "cell_type": "code",
      "metadata": {
        "colab": {
          "base_uri": "https://localhost:8080/"
        },
        "id": "qk4qfQWoKXWT",
        "outputId": "b869d13c-89d2-4d7b-c270-ef04ba323a56"
      },
      "source": [
        "# The standard deviation of the\n",
        "SD = sqrt((0.5 * 0.5)/union['Clicks'].sum())\n",
        "SD"
      ],
      "execution_count": 7,
      "outputs": [
        {
          "output_type": "execute_result",
          "data": {
            "text/plain": [
              "0.002099747079699252"
            ]
          },
          "metadata": {
            "tags": []
          },
          "execution_count": 7
        }
      ]
    },
    {
      "cell_type": "code",
      "metadata": {
        "colab": {
          "base_uri": "https://localhost:8080/"
        },
        "id": "B2OJ0t64LuDM",
        "outputId": "0621cc17-d565-4690-e441-bcd5e2ca152e"
      },
      "source": [
        "z_score = 1.96 # at 95% confidence level\n",
        "error_margin = SD * z_score\n",
        "error_margin"
      ],
      "execution_count": 8,
      "outputs": [
        {
          "output_type": "execute_result",
          "data": {
            "text/plain": [
              "0.0041155042762105335"
            ]
          },
          "metadata": {
            "tags": []
          },
          "execution_count": 8
        }
      ]
    },
    {
      "cell_type": "code",
      "metadata": {
        "colab": {
          "base_uri": "https://localhost:8080/"
        },
        "id": "sver1IdTNImT",
        "outputId": "f6455726-6174-4b02-df9d-9fc5b02f0d7d"
      },
      "source": [
        "conf_interval = [0.5 - error_margin, 0.5 + error_margin]\n",
        "conf_interval"
      ],
      "execution_count": 28,
      "outputs": [
        {
          "output_type": "execute_result",
          "data": {
            "text/plain": [
              "[0.49588449572378945, 0.5041155042762105]"
            ]
          },
          "metadata": {
            "tags": []
          },
          "execution_count": 28
        }
      ]
    },
    {
      "cell_type": "markdown",
      "metadata": {
        "id": "q7ThZzlFNy27"
      },
      "source": [
        "From the previous two lines of code we can tell that the values we have are within the range so we can proceed with other calculations.\n"
      ]
    },
    {
      "cell_type": "code",
      "metadata": {
        "id": "cdb_ItyxyBWh"
      },
      "source": [
        "# Click through rate per day for each group\n",
        "control['CTR%'] = [i for i in (control['Clicks'] / control['Pageviews'])]\n",
        "experiment['CTR%'] = [i for i in (experiment['Clicks'] / experiment['Pageviews'])]"
      ],
      "execution_count": 2,
      "outputs": []
    },
    {
      "cell_type": "code",
      "metadata": {
        "colab": {
          "base_uri": "https://localhost:8080/"
        },
        "id": "64gNlpfYdIL8",
        "outputId": "62d90488-1ed5-477a-fa6d-99abce27bb4d"
      },
      "source": [
        "# Estimated click through rate for the control group\n",
        "control_CR = (control['Clicks'].sum() / control['Pageviews'].sum())\n",
        "print(f'{control_CR:.2f}')"
      ],
      "execution_count": 8,
      "outputs": [
        {
          "output_type": "stream",
          "text": [
            "0.08\n"
          ],
          "name": "stdout"
        }
      ]
    },
    {
      "cell_type": "code",
      "metadata": {
        "colab": {
          "base_uri": "https://localhost:8080/"
        },
        "id": "BLaO76rfdoM6",
        "outputId": "b541efcf-a140-4fde-b734-f58a36832cfd"
      },
      "source": [
        "# Estimated click through rate for the treatment group\n",
        "experiment_CR = (experiment['Clicks'].sum() / experiment['Pageviews'].sum())\n",
        "print(f'{experiment_CR:.2f}')"
      ],
      "execution_count": 9,
      "outputs": [
        {
          "output_type": "stream",
          "text": [
            "0.08\n"
          ],
          "name": "stdout"
        }
      ]
    },
    {
      "cell_type": "markdown",
      "metadata": {
        "id": "rpmqvkw8eJMM"
      },
      "source": [
        "The click through rate for the control group is basically the same as the click through rate for the experiment group."
      ]
    },
    {
      "cell_type": "code",
      "metadata": {
        "colab": {
          "base_uri": "https://localhost:8080/"
        },
        "id": "E12npXGFejGI",
        "outputId": "0d80b83f-a106-40ab-f7f0-d39666fcf829"
      },
      "source": [
        "# Difference between the click through rates\n",
        "d_hat = (experiment_CR - control_CR) / 100\n",
        "d_hat"
      ],
      "execution_count": null,
      "outputs": [
        {
          "output_type": "execute_result",
          "data": {
            "text/plain": [
              "5.662709158691826e-05"
            ]
          },
          "metadata": {
            "tags": []
          },
          "execution_count": 12
        }
      ]
    },
    {
      "cell_type": "markdown",
      "metadata": {
        "id": "nAnc1IpMNTRR"
      },
      "source": [
        "## Z test at 95% confidence level\n"
      ]
    },
    {
      "cell_type": "code",
      "metadata": {
        "colab": {
          "base_uri": "https://localhost:8080/"
        },
        "id": "xI4vnawkaNp6",
        "outputId": "5366506c-803b-4259-ce16-2bfc6b590044"
      },
      "source": [
        "n_con = control['Pageviews'].sum()\n",
        "n_treat = experiment['Pageviews'].sum()\n",
        "successes = [control['Clicks'].s, experiment['Clicks'].sum()]\n",
        "nobs = [n_con, n_treat]\n",
        "\n",
        "z_stat, pval = proportions_ztest(successes, nobs=nobs)\n",
        "(lower_con, lower_treat), (upper_con, upper_treat) = proportion_confint(successes, nobs=nobs, alpha=0.05)"
      ],
      "execution_count": null,
      "outputs": [
        {
          "output_type": "stream",
          "text": [
            "z statistic: -0.086\n",
            "p-value: 0.932\n",
            "ci 95% for control group: [0.081, 0.083]\n",
            "ci 95% for treatment group: [0.081, 0.083]\n"
          ],
          "name": "stdout"
        }
      ]
    },
    {
      "cell_type": "code",
      "metadata": {
        "id": "0RBh6bZS6xN2",
        "outputId": "97ecf323-1d71-4d65-8b27-b7d0cbad8f5b",
        "colab": {
          "base_uri": "https://localhost:8080/"
        }
      },
      "source": [
        "cont = st.DescrStatsW(control['CTR%'])\n",
        "exper = st.DescrStatsW(experiment['CTR%'])\n",
        "cm_object = st.CompareMeans(cont, exper)\n",
        "ztest, pval = cm_object.ztest_ind(usevar='unequal')\n",
        "print(f'z_val is {ztest}', f'p_val is {pval}')"
      ],
      "execution_count": 20,
      "outputs": [
        {
          "output_type": "stream",
          "text": [
            "z_val is -0.08302608446563484 p_val is 0.9338307988101693\n"
          ],
          "name": "stdout"
        }
      ]
    },
    {
      "cell_type": "markdown",
      "metadata": {
        "id": "isl-CzaK19f7"
      },
      "source": [
        "The z value is in within our critical value of +/- 1.96. The p value is also greater than our 0.05 threshold so we cannot reject the Null Hypothesis. \n"
      ]
    },
    {
      "cell_type": "markdown",
      "metadata": {
        "id": "navHq9ixaF5J"
      },
      "source": [
        "## T test at 95% confidence level"
      ]
    },
    {
      "cell_type": "code",
      "metadata": {
        "colab": {
          "base_uri": "https://localhost:8080/"
        },
        "id": "_RPlKS0EaNFQ",
        "outputId": "5195a4c4-7827-4472-cef9-87aae009e539"
      },
      "source": [
        "# Degree of freedom\n",
        "df1 = control['Clicks'].count() - 1\n",
        "df2 = experiment['Clicks'].count() - 1\n",
        "freedom = df1 + df2\n",
        "freedom"
      ],
      "execution_count": 3,
      "outputs": [
        {
          "output_type": "execute_result",
          "data": {
            "text/plain": [
              "72"
            ]
          },
          "metadata": {
            "tags": []
          },
          "execution_count": 3
        }
      ]
    },
    {
      "cell_type": "code",
      "metadata": {
        "colab": {
          "base_uri": "https://localhost:8080/"
        },
        "id": "yDzHwmmhgl4y",
        "outputId": "c004077b-98d9-4b45-bbc5-94df3a15616e"
      },
      "source": [
        "print('t_critic', scipy.stats.t.ppf(0.025, 72))\n",
        "ttest,pval = ttest_ind(control['CTR%'], experiment['CTR%'], equal_var=False)\n",
        "print(f't_val is {ttest}', f'p_val is {pval}')"
      ],
      "execution_count": 4,
      "outputs": [
        {
          "output_type": "stream",
          "text": [
            "t_critic -1.9934635662785831\n",
            "t_val is -0.08302608446561602 p_val is 0.9340614866433883\n"
          ],
          "name": "stdout"
        }
      ]
    },
    {
      "cell_type": "markdown",
      "metadata": {
        "id": "njyPq2dZwvOA"
      },
      "source": [
        "Calculated t value of 0.0830 is within expected value range of +/-1.993. P value is also greater than 0.05 threshold. Based on this result, we cannot reject the null hypothesis."
      ]
    },
    {
      "cell_type": "markdown",
      "metadata": {
        "id": "aq_M-WSJARV7"
      },
      "source": [
        "#### The t test and the z test concluded the same result because of the large sample size. For a Large Sample, we have a high degree of freedom. And since t-distribution approaches the normal distribution, the difference between the z score and t score is negligible. "
      ]
    },
    {
      "cell_type": "markdown",
      "metadata": {
        "id": "OUbUESR2puVN"
      },
      "source": [
        "## T test at 60% Confidence Level\n"
      ]
    },
    {
      "cell_type": "code",
      "metadata": {
        "colab": {
          "base_uri": "https://localhost:8080/"
        },
        "id": "q6ZD-cE7qkl5",
        "outputId": "abe24b55-a7c8-4a0f-91ab-f52293d0e528"
      },
      "source": [
        "# Enrollments and Payments columns have nan values so I drop rows that contain nan values\n",
        "control = control.dropna()\n",
        "experiment = experiment.dropna()\n",
        "freed = (control['Enrollments'].count() - 1) + (experiment['Enrollments'].count() - 1)\n",
        "freed"
      ],
      "execution_count": 5,
      "outputs": [
        {
          "output_type": "execute_result",
          "data": {
            "text/plain": [
              "44"
            ]
          },
          "metadata": {
            "tags": []
          },
          "execution_count": 5
        }
      ]
    },
    {
      "cell_type": "code",
      "metadata": {
        "colab": {
          "base_uri": "https://localhost:8080/"
        },
        "id": "-OT0MDWwiEaF",
        "outputId": "c8156cad-c310-4ce0-c30e-49813835fb22"
      },
      "source": [
        "# Here I used the Enrollment for users that clicked\n",
        "# critical t value at 60% confidence level is \n",
        "print('t_crtic at 60% CL is', scipy.stats.t.ppf(0.2, 44))\n",
        "ttest,pval = ttest_ind(control['Enrollments'], experiment['Enrollments'], equal_var=False)\n",
        "print(f't_val is {ttest}', f'p_val is {pval}')"
      ],
      "execution_count": 7,
      "outputs": [
        {
          "output_type": "stream",
          "text": [
            "t_crtic at 60% CL is -0.8498668047586602\n",
            "t_val is 1.686512674290538 p_val is 0.09885080214900278\n"
          ],
          "name": "stdout"
        }
      ]
    },
    {
      "cell_type": "markdown",
      "metadata": {
        "id": "YO7QKs_CrRtp"
      },
      "source": [
        "## T test at 90% Confidence Level\n"
      ]
    },
    {
      "cell_type": "code",
      "metadata": {
        "colab": {
          "base_uri": "https://localhost:8080/"
        },
        "id": "WvjrJKK9jSEZ",
        "outputId": "76ecfdec-0f39-47e2-bf74-7da56f7ec170"
      },
      "source": [
        "# Here I used the Enrollment for users that clicked\n",
        "# critical t value at 90% confidence level is \n",
        "print('t_critic at 90% CL is', scipy.stats.t.ppf(0.05, 44))\n",
        "ttest,pval = ttest_ind(control['Enrollments'], experiment['Enrollments'], equal_var=False)\n",
        "print(f't_val is {ttest}', f'p_val is {pval}')"
      ],
      "execution_count": 8,
      "outputs": [
        {
          "output_type": "stream",
          "text": [
            "t_critic at 90% CL is -1.680229975365252\n",
            "t_val is 1.686512674290538 p_val is 0.09885080214900278\n"
          ],
          "name": "stdout"
        }
      ]
    },
    {
      "cell_type": "markdown",
      "metadata": {
        "id": "MBBPU-p_8C8Y"
      },
      "source": [
        "From the above, the t statistic is greater than the critical value of 1.680 and the p_value is less than the alpha of 0.1 so we can reject the null hypothesis"
      ]
    },
    {
      "cell_type": "markdown",
      "metadata": {
        "id": "aZb4KlRCrn_p"
      },
      "source": [
        "\n",
        "## T test at 99% Confidence Level"
      ]
    },
    {
      "cell_type": "code",
      "metadata": {
        "colab": {
          "base_uri": "https://localhost:8080/"
        },
        "id": "xk2DXqw7vOyr",
        "outputId": "37916f73-0c13-4840-a371-696d6765d63a"
      },
      "source": [
        "# Here I used the Enrollment for users that clicked\n",
        "# critical t value at 99% confidence level is \n",
        "print('t_critic at 99% CL is', scipy.stats.t.ppf(0.005, 44))\n",
        "ttest,pval = ttest_ind(control['Enrollments'], experiment['Enrollments'], equal_var=False)\n",
        "print(f't_val is {ttest}', f'p_val is {pval}')"
      ],
      "execution_count": 9,
      "outputs": [
        {
          "output_type": "stream",
          "text": [
            "t_critic at 99% CL is -2.692278265693017\n",
            "t_val is 1.686512674290538 p_val is 0.09885080214900278\n"
          ],
          "name": "stdout"
        }
      ]
    },
    {
      "cell_type": "markdown",
      "metadata": {
        "id": "vDiyzSgpt2ex"
      },
      "source": [
        "## Evaluation Criteria"
      ]
    },
    {
      "cell_type": "markdown",
      "metadata": {
        "id": "yivdp2eUt2ex"
      },
      "source": [
        "- Correctness of used test methods.\n",
        "- Soundness of explanations given.\n",
        "- Adherence to the requirements."
      ]
    },
    {
      "cell_type": "markdown",
      "metadata": {
        "id": "vQp0ZpDAt2ez"
      },
      "source": [
        "\n",
        "## Sample correction questions\n",
        "\n",
        "During a correction, you may get asked questions that test your understanding of covered topics.\n",
        "\n",
        "- Why collect data from sample rather than data from a population?\n",
        "- What is the Central Limit Theorem and why is it important?\n",
        "- Explain confidence intervals and significance in statistics\n",
        "- Explain what p-value is"
      ]
    }
  ]
}